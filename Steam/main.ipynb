{
 "cells": [
  {
   "cell_type": "code",
   "execution_count": 1,
   "id": "5fa9c792",
   "metadata": {},
   "outputs": [],
   "source": [
    "from functions import *"
   ]
  },
  {
   "cell_type": "code",
   "execution_count": 2,
   "id": "a5549eda",
   "metadata": {},
   "outputs": [],
   "source": [
    "try:    \n",
    "    if not QApplication.instance():\n",
    "        app = QApplication(sys.argv)\n",
    "    else:\n",
    "        app = QApplication.instance() \n",
    "\n",
    "    window = QMainWindow()\n",
    "    \n",
    "    window.setWindowFlags(QtCore.Qt.WindowMinimizeButtonHint | QtCore.Qt.WindowCloseButtonHint)\n",
    "    window.setFixedSize(1192,640)\n",
    "    \n",
    "    ui.setupUi(window)\n",
    "    \n",
    "    ui.btnDisplay.clicked.connect(check_infos)\n",
    "    ui.btnNextGame.clicked.connect(next_game)\n",
    "    ui.btnPreviousGame.clicked.connect(previous_game)\n",
    "    \n",
    "    onlyInt = QIntValidator()\n",
    "    onlyInt.setRange(0, len(df))\n",
    "    ui.leSkip.setValidator(onlyInt)\n",
    "    ui.leSkip.returnPressed.connect(skip)\n",
    "\n",
    "    ui.leName.returnPressed.connect(check_infos)\n",
    "    completer = QCompleter(list(df['name'])) \n",
    "    ui.leName.setCompleter(completer)\n",
    "    \n",
    "    ui.lblTitle.setAlignment(QtCore.Qt.AlignCenter)\n",
    "    window.show()\n",
    "       \n",
    "    ui.btnClear.clicked.connect(clear)\n",
    "    \n",
    "    ui.btnNextPic.clicked.connect(next_image)\n",
    "    ui.btnPreviousPic.clicked.connect(previous_image)\n",
    "    \n",
    "    clear()\n",
    "    \n",
    "    ui.btnClear.setToolTip(\"<font color=black>Clear All</font>\")\n",
    "    ui.btnClear.leaveEvent = lambda e: ui.btnClear.setStyleSheet(\"color: rgb(102, 192, 244);background-color: rgb(42, 71, 94);\")    \n",
    "    ui.btnClear.enterEvent = lambda e: ui.btnClear.setStyleSheet(\"color: rgb(255,255,255);background-color: rgb(102, 192, 244); QToolTip {color: rgb(0,0,0); background-color: rgb(255,255,255); border: 0px;}\")\n",
    "    \n",
    "    ui.btnDisplay.setToolTip(\"<font color=black>Display Recommended Games</font>\")\n",
    "    ui.btnDisplay.leaveEvent = lambda e: ui.btnDisplay.setStyleSheet(\"color: rgb(102, 192, 244);background-color: rgb(42, 71, 94);\")    \n",
    "    ui.btnDisplay.enterEvent = lambda e: ui.btnDisplay.setStyleSheet(\"color: rgb(255,255,255);background-color: rgb(102, 192, 244);\")\n",
    "    \n",
    "    ui.btnNextGame.setToolTip(\"<font color=black>Next Game</font>\")\n",
    "    ui.btnNextGame.leaveEvent = lambda e: ui.btnNextGame.setStyleSheet(\"color: rgb(102, 192, 244);background-color: rgb(27, 40, 56);\")    \n",
    "    ui.btnNextGame.enterEvent = lambda e: ui.btnNextGame.setStyleSheet(\"color: rgb(255,255,255);background-color: rgb(102, 192, 244);\")\n",
    "    \n",
    "    ui.btnPreviousGame.setToolTip(\"<font color=black>Previous Game</font>\")\n",
    "    ui.btnPreviousGame.leaveEvent = lambda e: ui.btnPreviousGame.setStyleSheet(\"color: rgb(102, 192, 244);background-color: rgb(27, 40, 56);\")    \n",
    "    ui.btnPreviousGame.enterEvent = lambda e: ui.btnPreviousGame.setStyleSheet(\"color: rgb(255,255,255);background-color: rgb(102, 192, 244);\")\n",
    "    \n",
    "    \n",
    "    QtWidgets.QApplication.setQuitOnLastWindowClosed(True)\n",
    "    app.exec_()\n",
    "    app.quit()\n",
    "except Exception as ex:\n",
    "    print(ex)"
   ]
  }
 ],
 "metadata": {
  "kernelspec": {
   "display_name": "Python 3 (ipykernel)",
   "language": "python",
   "name": "python3"
  },
  "language_info": {
   "codemirror_mode": {
    "name": "ipython",
    "version": 3
   },
   "file_extension": ".py",
   "mimetype": "text/x-python",
   "name": "python",
   "nbconvert_exporter": "python",
   "pygments_lexer": "ipython3",
   "version": "3.9.12"
  }
 },
 "nbformat": 4,
 "nbformat_minor": 5
}
